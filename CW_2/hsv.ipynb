{
 "cells": [
  {
   "cell_type": "code",
   "execution_count": 25,
   "metadata": {
    "collapsed": true
   },
   "outputs": [
    {
     "ename": "TypeError",
     "evalue": "_dstack_dispatcher() takes 1 positional argument but 3 were given",
     "output_type": "error",
     "traceback": [
      "\u001B[1;31m---------------------------------------------------------------------------\u001B[0m",
      "\u001B[1;31mTypeError\u001B[0m                                 Traceback (most recent call last)",
      "Cell \u001B[1;32mIn [25], line 25\u001B[0m\n\u001B[0;32m     20\u001B[0m additionMinusSubtraction \u001B[38;5;241m=\u001B[39m np\u001B[38;5;241m.\u001B[39mpower(red, \u001B[38;5;241m2\u001B[39m) \u001B[38;5;241m+\u001B[39m np\u001B[38;5;241m.\u001B[39mpower(green, \u001B[38;5;241m2\u001B[39m) \u001B[38;5;241m+\u001B[39m np\u001B[38;5;241m.\u001B[39mpower(blue, \u001B[38;5;241m2\u001B[39m) \u001B[38;5;241m-\u001B[39m red \u001B[38;5;241m*\u001B[39m green \u001B[38;5;241m-\u001B[39m red \u001B[38;5;241m*\u001B[39m blue \u001B[38;5;241m-\u001B[39m green \u001B[38;5;241m*\u001B[39m blue\n\u001B[0;32m     21\u001B[0m H \u001B[38;5;241m=\u001B[39m np\u001B[38;5;241m.\u001B[39mwhere(green \u001B[38;5;241m>\u001B[39m\u001B[38;5;241m=\u001B[39m blue,\n\u001B[0;32m     22\u001B[0m         np\u001B[38;5;241m.\u001B[39mcos((red \u001B[38;5;241m-\u001B[39m green \u001B[38;5;241m/\u001B[39m \u001B[38;5;241m2.0\u001B[39m \u001B[38;5;241m-\u001B[39m blue \u001B[38;5;241m/\u001B[39m \u001B[38;5;241m2.0\u001B[39m) \u001B[38;5;241m/\u001B[39m np\u001B[38;5;241m.\u001B[39msqrt(additionMinusSubtraction)) \u001B[38;5;241m*\u001B[39m\u001B[38;5;241m*\u001B[39m (\u001B[38;5;241m-\u001B[39m\u001B[38;5;241m1\u001B[39m),\n\u001B[0;32m     23\u001B[0m         \u001B[38;5;241m360\u001B[39m \u001B[38;5;241m-\u001B[39m np\u001B[38;5;241m.\u001B[39mcos((red \u001B[38;5;241m-\u001B[39m green \u001B[38;5;241m/\u001B[39m \u001B[38;5;241m2.0\u001B[39m \u001B[38;5;241m-\u001B[39m blue \u001B[38;5;241m/\u001B[39m \u001B[38;5;241m2.0\u001B[39m) \u001B[38;5;241m/\u001B[39m np\u001B[38;5;241m.\u001B[39msqrt(additionMinusSubtraction)) \u001B[38;5;241m*\u001B[39m\u001B[38;5;241m*\u001B[39m (\u001B[38;5;241m-\u001B[39m\u001B[38;5;241m1\u001B[39m))\n\u001B[1;32m---> 25\u001B[0m imagee \u001B[38;5;241m=\u001B[39m \u001B[43mnp\u001B[49m\u001B[38;5;241;43m.\u001B[39;49m\u001B[43mdstack\u001B[49m\u001B[43m(\u001B[49m\u001B[43mH\u001B[49m\u001B[43m,\u001B[49m\u001B[43mS\u001B[49m\u001B[43m,\u001B[49m\u001B[43mV\u001B[49m\u001B[43m)\u001B[49m\n\u001B[0;32m     26\u001B[0m imshow(imagee)\n",
      "File \u001B[1;32m<__array_function__ internals>:179\u001B[0m, in \u001B[0;36mdstack\u001B[1;34m(*args, **kwargs)\u001B[0m\n",
      "\u001B[1;31mTypeError\u001B[0m: _dstack_dispatcher() takes 1 positional argument but 3 were given"
     ]
    }
   ],
   "source": [
    "import numpy as np\n",
    "from enum import Enum\n",
    "from matplotlib.image import imread\n",
    "from matplotlib.image import imsave\n",
    "from matplotlib.pyplot import imshow\n",
    "import matplotlib.pyplot as plt\n",
    "import copy\n",
    "import math\n",
    "\n",
    "\n",
    "image = imread('./lena.jpg')\n",
    "\n",
    "img_tab = np.squeeze(np.dsplit(image, image.shape[-1]))\n",
    "\n",
    "red, green, blue = np.squeeze(np.dsplit(image, image.shape[-1])) / 255.0\n",
    "M = np.max([red, green, blue], axis=0)\n",
    "m = np.min([red, green, blue], axis=0)\n",
    "V = M / 255\n",
    "S = np.where(M > 0, 1 - m / M, 0)\n",
    "additionMinusSubtraction = np.power(red, 2) + np.power(green, 2) + np.power(blue, 2) - red * green - red * blue - green * blue\n",
    "H = np.where(green >= blue,\n",
    "        np.cos((red - green / 2.0 - blue / 2.0) / np.sqrt(additionMinusSubtraction)) ** (-1),\n",
    "        360 - np.cos((red - green / 2.0 - blue / 2.0) / np.sqrt(additionMinusSubtraction)) ** (-1))\n",
    "\n",
    "imagee = np.dstack(H,S,V)\n",
    "imshow(imagee)\n"
   ]
  },
  {
   "cell_type": "code",
   "execution_count": null,
   "outputs": [],
   "source": [],
   "metadata": {
    "collapsed": false
   }
  }
 ],
 "metadata": {
  "kernelspec": {
   "display_name": "Python 3",
   "language": "python",
   "name": "python3"
  },
  "language_info": {
   "codemirror_mode": {
    "name": "ipython",
    "version": 2
   },
   "file_extension": ".py",
   "mimetype": "text/x-python",
   "name": "python",
   "nbconvert_exporter": "python",
   "pygments_lexer": "ipython2",
   "version": "2.7.6"
  }
 },
 "nbformat": 4,
 "nbformat_minor": 0
}
