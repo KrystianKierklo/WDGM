{
 "cells": [
  {
   "cell_type": "code",
   "execution_count": 19,
   "metadata": {
    "collapsed": true
   },
   "outputs": [
    {
     "ename": "AttributeError",
     "evalue": "'NoneType' object has no attribute 'data'",
     "output_type": "error",
     "traceback": [
      "\u001B[1;31m---------------------------------------------------------------------------\u001B[0m",
      "\u001B[1;31mAttributeError\u001B[0m                            Traceback (most recent call last)",
      "Cell \u001B[1;32mIn [19], line 6\u001B[0m\n\u001B[0;32m      1\u001B[0m \u001B[38;5;28;01mfrom\u001B[39;00m \u001B[38;5;21;01mmain\u001B[39;00m \u001B[38;5;28;01mimport\u001B[39;00m BaseImage\n\u001B[0;32m      4\u001B[0m obraz \u001B[38;5;241m=\u001B[39m BaseImage(\u001B[38;5;124m\"\u001B[39m\u001B[38;5;124mC:/Users/Krystian/Documents/GitHub/WDGM/CW_2/lena.jpg\u001B[39m\u001B[38;5;124m\"\u001B[39m)\n\u001B[1;32m----> 6\u001B[0m \u001B[43mBaseImage\u001B[49m\u001B[38;5;241;43m.\u001B[39;49m\u001B[43mshow_img\u001B[49m\u001B[43m(\u001B[49m\u001B[43mBaseImage\u001B[49m\u001B[38;5;241;43m.\u001B[39;49m\u001B[43mto_hsi\u001B[49m\u001B[43m(\u001B[49m\u001B[43mobraz\u001B[49m\u001B[43m)\u001B[49m\u001B[43m)\u001B[49m\n",
      "File \u001B[1;32m~\\Documents\\GitHub\\WDGM\\CW_2\\main.py:31\u001B[0m, in \u001B[0;36mBaseImage.show_img\u001B[1;34m(self)\u001B[0m\n\u001B[0;32m     30\u001B[0m \u001B[38;5;28;01mdef\u001B[39;00m \u001B[38;5;21mshow_img\u001B[39m(\u001B[38;5;28mself\u001B[39m) \u001B[38;5;241m-\u001B[39m\u001B[38;5;241m>\u001B[39m \u001B[38;5;28;01mNone\u001B[39;00m:\n\u001B[1;32m---> 31\u001B[0m     imshow(\u001B[38;5;28;43mself\u001B[39;49m\u001B[38;5;241;43m.\u001B[39;49m\u001B[43mdata\u001B[49m)\n\u001B[0;32m     32\u001B[0m     \u001B[38;5;28;01mpass\u001B[39;00m\n",
      "\u001B[1;31mAttributeError\u001B[0m: 'NoneType' object has no attribute 'data'"
     ]
    }
   ],
   "source": [
    "from main import BaseImage\n",
    "\n",
    "\n",
    "obraz = BaseImage(\"C:/Users/Krystian/Documents/GitHub/WDGM/CW_2/lena.jpg\")\n",
    "\n",
    "BaseImage.show_img(BaseImage.to_hsi(obraz))\n"
   ]
  },
  {
   "cell_type": "code",
   "execution_count": null,
   "outputs": [],
   "source": [],
   "metadata": {
    "collapsed": false
   }
  }
 ],
 "metadata": {
  "kernelspec": {
   "display_name": "Python 3",
   "language": "python",
   "name": "python3"
  },
  "language_info": {
   "codemirror_mode": {
    "name": "ipython",
    "version": 2
   },
   "file_extension": ".py",
   "mimetype": "text/x-python",
   "name": "python",
   "nbconvert_exporter": "python",
   "pygments_lexer": "ipython2",
   "version": "2.7.6"
  }
 },
 "nbformat": 4,
 "nbformat_minor": 0
}
