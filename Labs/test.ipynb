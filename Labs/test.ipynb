{
 "cells": [
  {
   "cell_type": "code",
   "execution_count": 2,
   "metadata": {
    "collapsed": true
   },
   "outputs": [
    {
     "name": "stdout",
     "output_type": "stream",
     "text": [
      "0.0\n"
     ]
    }
   ],
   "source": [
    "import matplotlib.pyplot as plt\n",
    "import numpy as np\n",
    "\n",
    "from Lab02.BaseImage import BaseImage\n",
    "from Lab03.GrayScaleTransform import GrayScaleTransform\n",
    "from Lab04.Histogram import *\n",
    "from matplotlib.pyplot import imshow\n",
    "from matplotlib import *\n",
    "from numpy import histogram\n",
    "from Lab04.ImageComparison import *\n",
    "#from Lab03.Image import Image\n",
    "\n",
    "obraz1 = ImageComparison(\"C:/Users/Krystian/Documents/GitHub/WDGM/Labs/lena.jpg\")\n",
    "obraz2 = ImageComparison(\"C:/Users/Krystian/Documents/GitHub/WDGM/Labs/lena.jpg\")\n",
    "obraz3 = GrayScaleTransform(\"C:/Users/Krystian/Documents/GitHub/WDGM/Labs/lena_z_kreska.jpg\")\n",
    "obraz4 = GrayScaleTransform(\"C:/Users/Krystian/Documents/GitHub/WDGM/Labs/kendalka.jpg\")\n",
    "\n",
    "\n",
    "wynik = obraz1.compare_to(obraz2, 0)\n",
    "\n",
    "\n",
    "print(wynik)\n",
    "\n",
    "\n",
    "\n"
   ]
  },
  {
   "cell_type": "code",
   "execution_count": null,
   "outputs": [],
   "source": [],
   "metadata": {
    "collapsed": false
   }
  }
 ],
 "metadata": {
  "kernelspec": {
   "display_name": "Python 3",
   "language": "python",
   "name": "python3"
  },
  "language_info": {
   "codemirror_mode": {
    "name": "ipython",
    "version": 2
   },
   "file_extension": ".py",
   "mimetype": "text/x-python",
   "name": "python",
   "nbconvert_exporter": "python",
   "pygments_lexer": "ipython2",
   "version": "2.7.6"
  }
 },
 "nbformat": 4,
 "nbformat_minor": 0
}
